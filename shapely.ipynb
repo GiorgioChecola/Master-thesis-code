{
 "cells": [
  {
   "cell_type": "code",
   "execution_count": 59,
   "id": "7dc3415b-1db1-4305-acad-9a38b3e7d1f1",
   "metadata": {},
   "outputs": [],
   "source": [
    "import shapely\n",
    "from shapely.geometry import Point, Polygon, LineString, GeometryCollection, MultiPolygon\n",
    "import numpy as np\n",
    "from shapely import wkt"
   ]
  },
  {
   "cell_type": "code",
   "execution_count": 22,
   "id": "ea1b7288-680b-4a5a-94d8-5ef9fe38282e",
   "metadata": {},
   "outputs": [
    {
     "data": {
      "text/plain": [
       "(array('d', [100.0]), array('d', [10.0]))"
      ]
     },
     "execution_count": 22,
     "metadata": {},
     "output_type": "execute_result"
    }
   ],
   "source": [
    "pt = Point(100, 10)\n",
    "pt1 = Point(150, 10)\n",
    "pt.distance(pt1)\n",
    "pt.x\n",
    "pt.y\n",
    "pt.xy"
   ]
  },
  {
   "cell_type": "code",
   "execution_count": 12,
   "id": "74ca5e77-dd7d-4ab0-aa0f-f7460d494e15",
   "metadata": {},
   "outputs": [
    {
     "data": {
      "image/svg+xml": [
       "<svg xmlns=\"http://www.w3.org/2000/svg\" xmlns:xlink=\"http://www.w3.org/1999/xlink\" width=\"100.0\" height=\"100.0\" viewBox=\"99.0 9.0 2.0 2.0\" preserveAspectRatio=\"xMinYMin meet\"><g transform=\"matrix(1,0,0,-1,0,20.0)\"><circle cx=\"100.0\" cy=\"10.0\" r=\"0.06\" stroke=\"#555555\" stroke-width=\"0.02\" fill=\"#66cc99\" opacity=\"0.6\" /></g></svg>"
      ],
      "text/plain": [
       "<shapely.geometry.point.Point at 0x1de0642ea60>"
      ]
     },
     "execution_count": 12,
     "metadata": {},
     "output_type": "execute_result"
    }
   ],
   "source": [
    "wkt.loads(str(pt))"
   ]
  },
  {
   "cell_type": "code",
   "execution_count": 17,
   "id": "3cc372c3-5281-4217-b32d-6350e9e59a43",
   "metadata": {},
   "outputs": [
    {
     "data": {
      "image/svg+xml": [
       "<svg xmlns=\"http://www.w3.org/2000/svg\" xmlns:xlink=\"http://www.w3.org/1999/xlink\" width=\"100.0\" height=\"100.0\" viewBox=\"98.0 8.0 54.0 4.0\" preserveAspectRatio=\"xMinYMin meet\"><g transform=\"matrix(1,0,0,-1,0,20.0)\"><g><circle cx=\"100.0\" cy=\"10.0\" r=\"1.62\" stroke=\"#555555\" stroke-width=\"0.54\" fill=\"#66cc99\" opacity=\"0.6\" /><circle cx=\"150.0\" cy=\"10.0\" r=\"1.62\" stroke=\"#555555\" stroke-width=\"0.54\" fill=\"#66cc99\" opacity=\"0.6\" /></g></g></svg>"
      ],
      "text/plain": [
       "<shapely.geometry.collection.GeometryCollection at 0x1de064f9430>"
      ]
     },
     "execution_count": 17,
     "metadata": {},
     "output_type": "execute_result"
    }
   ],
   "source": [
    "GeometryCollection([pt, pt1])"
   ]
  },
  {
   "cell_type": "code",
   "execution_count": 30,
   "id": "ec458109-3baf-41f7-b19f-0827ca96e2be",
   "metadata": {},
   "outputs": [
    {
     "data": {
      "text/plain": [
       "100.0199980003999"
      ]
     },
     "execution_count": 30,
     "metadata": {},
     "output_type": "execute_result"
    }
   ],
   "source": [
    "ln = LineString([(0, 1), (100, 3), (50, -100)])\n",
    "ln\n",
    "list(ln.coords)\n",
    "list(ln.xy[0])  # x coords\n",
    "list(ln.xy[1])  # y coords\n",
    "ln.project(pt)"
   ]
  },
  {
   "cell_type": "code",
   "execution_count": 31,
   "id": "2166a3c1-cb5c-4a0c-86dc-1594cb6e351d",
   "metadata": {},
   "outputs": [
    {
     "data": {
      "text/plain": [
       "[(0.9996001599360257, 1.0199920031987204)]"
      ]
     },
     "execution_count": 31,
     "metadata": {},
     "output_type": "execute_result"
    }
   ],
   "source": [
    "list(ln.interpolate(ln.project(Point(1,1))).coords)"
   ]
  },
  {
   "cell_type": "code",
   "execution_count": 52,
   "id": "a85d2abd-a30a-4084-a9a0-45b712dcfa18",
   "metadata": {},
   "outputs": [
    {
     "data": {
      "image/svg+xml": [
       "<svg xmlns=\"http://www.w3.org/2000/svg\" xmlns:xlink=\"http://www.w3.org/1999/xlink\" width=\"100.0\" height=\"100.0\" viewBox=\"-0.38000000000000006 -0.38000000000000006 2.16 2.16\" preserveAspectRatio=\"xMinYMin meet\"><g transform=\"matrix(1,0,0,-1,0,1.4)\"><path fill-rule=\"evenodd\" fill=\"#66cc99\" stroke=\"#555555\" stroke-width=\"0.0432\" opacity=\"0.6\" d=\"M 1.7,0.7 L 1.623879532511287,0.31731656763491056 L 1.407106781186548,-0.007106781186546951 L 1.0826834323650907,-0.22387953251128634 L 0.7000000000000016,-0.30000000000000004 L 0.3173165676349121,-0.22387953251128756 L -0.007106781186545952,-0.0071067811865491715 L -0.22387953251128578,0.3173165676349076 L -0.30000000000000004,0.6999999999999967 L -0.22387953251128823,1.0826834323650862 L -0.007106781186550504,1.4071067811865445 L 0.31731656763490634,1.6238795325112851 L 0.6999999999999953,1.7 L 1.082683432365085,1.6238795325112887 L 1.4071067811865436,1.4071067811865514 L 1.6238795325112845,1.0826834323650953 L 1.7,0.7 z\" /></g></svg>"
      ],
      "text/plain": [
       "<shapely.geometry.polygon.Polygon at 0x1de0651d160>"
      ]
     },
     "execution_count": 52,
     "metadata": {},
     "output_type": "execute_result"
    }
   ],
   "source": [
    "poly = Polygon([(0,0), (0,1), (1,1), (1,0)])\n",
    "poly\n",
    "poly.contains(Point(0.7, 0.7))\n",
    "pt2 = Point(0.7, 0.7).buffer(1, resolution=4)\n",
    "#print(pt2)\n",
    "len(np.array(pt2.exterior))\n",
    "pt2"
   ]
  },
  {
   "cell_type": "code",
   "execution_count": 60,
   "id": "183bea40-0785-480e-a014-bd7a28e06dd1",
   "metadata": {},
   "outputs": [
    {
     "data": {
      "text/plain": [
       "(0.0, 0.0, 20.0, 20.0)"
      ]
     },
     "execution_count": 60,
     "metadata": {},
     "output_type": "execute_result"
    }
   ],
   "source": [
    "Point(10,10).buffer(10).bounds"
   ]
  },
  {
   "cell_type": "code",
   "execution_count": 68,
   "id": "c567b4e8-ff4d-4e13-87f6-c69f0fcd8f0c",
   "metadata": {},
   "outputs": [
    {
     "data": {
      "image/svg+xml": [
       "<svg xmlns=\"http://www.w3.org/2000/svg\" xmlns:xlink=\"http://www.w3.org/1999/xlink\" width=\"100.0\" height=\"100.0\" viewBox=\"-1.2 -1.2 32.4 22.4\" preserveAspectRatio=\"xMinYMin meet\"><g transform=\"matrix(1,0,0,-1,0,20.0)\"><path fill-rule=\"evenodd\" fill=\"#66cc99\" stroke=\"#555555\" stroke-width=\"0.648\" opacity=\"0.6\" d=\"M 0.0,0.0 L 20.0,20.0 L 30.0,10.0 L 0.0,0.0 z\" /></g></svg>"
      ],
      "text/plain": [
       "<shapely.geometry.polygon.Polygon at 0x1de0651d3d0>"
      ]
     },
     "execution_count": 68,
     "metadata": {},
     "output_type": "execute_result"
    }
   ],
   "source": [
    "x = Point(10,10).buffer(10).bounds\n",
    "Polygon([(0.0, 0.0), (20.0, 20.0), (30, 10)])"
   ]
  },
  {
   "cell_type": "code",
   "execution_count": 81,
   "id": "36692b14-3270-44ae-993b-1c2dbc0a0b45",
   "metadata": {},
   "outputs": [
    {
     "name": "stderr",
     "output_type": "stream",
     "text": [
      "<ipython-input-81-f5b8495a01df>:243: DeprecationWarning: `np.float` is a deprecated alias for the builtin `float`. To silence this warning, use `float` by itself. Doing this will not modify any behavior and is safe. If you specifically wanted the numpy scalar type, use `np.float64` here.\n",
      "Deprecated in NumPy 1.20; for more details and guidance: https://numpy.org/devdocs/release/1.20.0-notes.html#deprecations\n",
      "  X = [(a-min(x1.astype(np.float)))*C for a in x1.astype(np.float)]\n",
      "<ipython-input-81-f5b8495a01df>:244: DeprecationWarning: `np.float` is a deprecated alias for the builtin `float`. To silence this warning, use `float` by itself. Doing this will not modify any behavior and is safe. If you specifically wanted the numpy scalar type, use `np.float64` here.\n",
      "Deprecated in NumPy 1.20; for more details and guidance: https://numpy.org/devdocs/release/1.20.0-notes.html#deprecations\n",
      "  Y = [-(b-min(y1.astype(np.float)))*C for b in y1.astype(np.float)]\n",
      "<ipython-input-81-f5b8495a01df>:245: DeprecationWarning: `np.float` is a deprecated alias for the builtin `float`. To silence this warning, use `float` by itself. Doing this will not modify any behavior and is safe. If you specifically wanted the numpy scalar type, use `np.float64` here.\n",
      "Deprecated in NumPy 1.20; for more details and guidance: https://numpy.org/devdocs/release/1.20.0-notes.html#deprecations\n",
      "  D = -d1.astype(np.float)\n",
      "<ipython-input-81-f5b8495a01df>:253: DeprecationWarning: `np.float` is a deprecated alias for the builtin `float`. To silence this warning, use `float` by itself. Doing this will not modify any behavior and is safe. If you specifically wanted the numpy scalar type, use `np.float64` here.\n",
      "Deprecated in NumPy 1.20; for more details and guidance: https://numpy.org/devdocs/release/1.20.0-notes.html#deprecations\n",
      "  IP_GPS = [(a-min(x1.astype(np.float)))*C for a in x1.astype(np.float)]\n"
     ]
    },
    {
     "data": {
      "image/png": "[encoded data removed]",
      "text/plain": [
       "<Figure size 432x288 with 2 Axes>"
      ]
     },
     "metadata": {
      "needs_background": "light"
     },
     "output_type": "display_data"
    },
    {
     "data": {
      "image/png": "[encoded data removed]",
      "text/plain": [
       "<Figure size 432x288 with 1 Axes>"
      ]
     },
     "metadata": {
      "needs_background": "light"
     },
     "output_type": "display_data"
    },
    {
     "data": {
      "image/png": "[encoded data removed]",
      "text/plain": [
       "<Figure size 432x288 with 1 Axes>"
      ]
     },
     "metadata": {
      "needs_background": "light"
     },
     "output_type": "display_data"
    },
    {
     "name": "stdout",
     "output_type": "stream",
     "text": [
      "[19, 19, 19, 20, 20, 21, 21, 21, 22, 22, 22, 22, 23, 23, 23, 23, 24, 24, 24, 24, 25, 25, 25, 25, 26, 26, 26, 26, 27, 27, 27, 27, 27, 27, 27, 27, 27, 27, 27, 28, 28, 28, 28, 28, 28, 28, 28, 28, 28, 28, 28, 28, 28, 28, 28, 28, 28, 28, 28, 29, 29, 29, 29, 29, 29, 29, 29, 29, 29, 29, 29, 29, 29, 29, 29, 29, 29, 29, 29, 29, 29, 29, 29, 29, 30, 30, 30, 30, 30, 30, 30, 30, 30, 30, 30, 30, 30, 30, 30, 30, 30, 30, 30, 30, 30, 30, 30, 30, 30, 31, 31, 31, 31, 31, 31, 31, 31, 31, 31, 31, 31, 31, 31, 31, 31, 31, 31, 31, 31, 31, 31, 31, 31, 31, 31, 31, 32, 32, 32, 32, 32, 32, 32, 32, 32, 32, 32, 32, 32, 32, 32, 32, 32, 32, 32, 32, 32, 32, 32, 32, 32, 32, 33, 33, 33, 33, 33, 33, 33, 33, 33, 33, 33, 33, 33, 33, 33, 33, 33, 33, 33, 33, 33, 33, 33, 33, 33, 33, 33, 34, 34, 34, 34, 34, 34, 34, 34, 34, 34, 34, 34, 34, 34, 34, 34, 34, 34, 34, 34, 34, 34, 34, 34, 34, 34, 34, 34, 34, 35, 35, 35, 35, 35, 35, 35, 35, 35, 35, 35, 35, 35, 35, 35, 35, 35, 35, 35, 35, 35, 35, 35, 35, 35, 35, 35, 35, 35, 35, 35, 35, 35, 36, 36, 36, 36, 36, 36, 36, 36, 36, 36, 36, 36, 36, 36, 36, 36, 36, 36, 36, 36, 36, 36, 36, 36, 36, 36, 36, 36, 36, 37, 37, 37, 37, 37, 37, 37, 37, 37, 37, 37, 37, 37, 37, 37, 37, 37, 37, 37, 37, 37, 37, 38, 38, 38, 38, 38, 38, 38, 38, 38, 38, 38, 38, 38, 38, 39, 39, 39, 39, 39, 39, 39, 20, 20, 21, 22, 22, 22, 23, 23, 23, 23, 24, 24, 24, 24, 25, 25, 25, 26, 26, 26, 27, 27, 27, 28, 28, 29, 29, 30, 31, 32, 32, 32, 32, 32, 32, 32, 32, 32, 32, 33, 33, 33, 33, 33, 33, 33, 33, 33, 33, 33, 34, 34, 34, 34, 34, 34, 34, 34, 34, 34, 34, 34, 34, 34, 34, 35, 35, 35, 35, 35, 35, 35, 35, 35, 35, 35, 35, 35, 35, 35, 35, 35, 36, 36, 36, 36, 36, 36, 36, 36, 36, 36, 36, 36, 36, 36, 36, 36, 36, 36, 36, 36, 36, 36, 36, 37, 37, 37, 37, 37, 37, 37, 37, 37, 37, 37, 37, 37, 37, 37, 37, 37, 37, 37, 37, 37, 37, 37, 37, 37, 37, 37, 37, 37, 37, 38, 38, 38, 38, 38, 38, 38, 38, 38, 38, 38, 38, 38, 38, 38, 38, 38, 38, 38, 38, 38, 38, 38, 38, 38, 38, 38, 38, 38, 38, 38, 38, 38, 38, 38, 38, 39, 39, 39, 39, 39, 39, 39, 39, 39, 39, 39, 39, 39, 39, 39, 39, 39, 39, 39, 39, 39, 39, 39, 39, 39, 39, 39, 39, 39, 39, 39, 39, 39, 39, 39, 39, 39, 39, 39, 39, 40, 40, 40, 40, 40, 40, 40, 40, 40, 40, 40, 40, 40, 40, 40, 40, 40, 40, 40, 40, 40, 40, 40, 40, 40, 40, 40, 40, 40, 40, 40, 40, 40, 40, 40, 40, 40, 40, 41, 41, 41, 41, 41, 41, 41, 41, 41, 41, 41, 41, 41, 41, 41, 41, 41, 41, 41, 41, 41, 41, 41, 41, 41, 41, 41, 41, 41, 41, 41, 41, 41, 41, 42, 42, 42, 42, 42, 42, 42, 42, 42, 42, 42, 42, 42, 42, 42, 42, 42, 42, 42, 42, 42, 42, 42, 42, 42, 42, 42, 42, 42, 42, 43, 43, 43, 43, 43, 43, 43, 43, 43, 43, 43, 43, 43, 44, 44, 44, 44, 44, 44, 44, 44, 44, 44, 45, 45, 45, 45, 45, 45, 45, 45, 45, 46, 46, 46, 46, 46, 46, 47, 47, 20, 20, 20, 21, 21, 22, 21, 21]\n",
      "--------\n",
      "[-63, -62, -61, -61, -60, -61, -60, -59, -60, -59, -58, -57, -59, -58, -57, -56, -58, -57, -56, -55, -58, -57, -56, -54, -58, -57, -56, -52, -58, -57, -56, -55, -51, -36, -35, -34, -33, -32, -16, -58, -57, -56, -55, -54, -49, -42, -41, -40, -39, -38, -37, -36, -35, -34, -33, -32, -16, -15, -14, -58, -57, -56, -55, -54, -53, -48, -46, -45, -44, -43, -42, -41, -40, -37, -36, -35, -34, -33, -32, -17, -16, -15, -14, -13, -58, -57, -56, -55, -54, -53, -52, -47, -46, -45, -44, -43, -37, -36, -35, -34, -33, -32, -18, -17, -16, -15, -14, -13, -12, -57, -56, -55, -54, -53, -52, -48, -47, -46, -37, -36, -35, -34, -33, -32, -22, -21, -20, -19, -18, -17, -16, -15, -14, -13, -12, -11, -55, -54, -53, -52, -51, -50, -49, -48, -47, -46, -38, -37, -36, -35, -34, -33, -23, -22, -21, -16, -15, -14, -13, -12, -11, -10, -55, -54, -53, -52, -51, -50, -49, -48, -47, -46, -45, -38, -37, -36, -35, -34, -33, -24, -23, -22, -15, -14, -13, -12, -11, -10, -9, -53, -52, -51, -50, -49, -48, -47, -46, -45, -44, -38, -37, -36, -35, -34, -33, -28, -27, -26, -25, -24, -23, -13, -12, -11, -10, -9, -8, -7, -51, -50, -49, -48, -47, -46, -45, -44, -43, -42, -38, -37, -36, -35, -34, -33, -32, -31, -30, -29, -28, -27, -26, -25, -24, -13, -12, -11, -10, -9, -8, -7, -6, -50, -49, -48, -47, -46, -45, -44, -43, -42, -41, -40, -38, -37, -36, -35, -34, -33, -32, -31, -30, -29, -28, -27, -11, -10, -9, -8, -7, -6, -47, -46, -45, -44, -43, -42, -41, -40, -39, -38, -37, -36, -35, -34, -33, -32, -31, -10, -9, -8, -7, -6, -45, -44, -43, -42, -41, -40, -39, -38, -37, -36, -35, -9, -8, -7, -44, -43, -42, -37, -9, -8, -7, -63, -61, -61, -62, -61, -60, -62, -61, -60, -59, -61, -60, -59, -58, -60, -59, -58, -60, -59, -58, -60, -59, -58, -59, -58, -59, -58, -58, -57, -57, -56, -55, -22, -21, -20, -19, -18, -17, -16, -57, -56, -55, -22, -21, -20, -19, -18, -17, -16, -15, -56, -55, -54, -53, -23, -22, -21, -20, -19, -18, -17, -16, -15, -14, -13, -55, -54, -53, -52, -51, -24, -23, -22, -21, -20, -19, -18, -17, -16, -15, -14, -13, -55, -54, -53, -52, -51, -50, -27, -26, -25, -24, -23, -22, -21, -20, -19, -18, -17, -16, -15, -14, -13, -12, -11, -54, -53, -52, -51, -50, -49, -48, -47, -31, -30, -29, -28, -27, -26, -25, -24, -23, -22, -21, -20, -19, -18, -17, -16, -15, -14, -13, -12, -11, -10, -53, -52, -51, -50, -49, -48, -47, -46, -45, -35, -34, -33, -32, -31, -30, -29, -28, -27, -26, -25, -24, -23, -22, -21, -20, -19, -18, -17, -16, -15, -14, -13, -12, -11, -10, -9, -51, -50, -49, -48, -47, -46, -45, -44, -42, -41, -40, -39, -38, -37, -36, -35, -34, -33, -32, -31, -30, -29, -28, -27, -26, -25, -22, -21, -20, -19, -18, -17, -16, -15, -14, -13, -12, -11, -10, -9, -49, -48, -47, -46, -45, -44, -43, -42, -41, -40, -39, -38, -37, -36, -35, -34, -33, -32, -31, -30, -29, -28, -27, -21, -20, -19, -18, -17, -16, -15, -14, -13, -12, -11, -10, -9, -8, -7, -47, -46, -45, -44, -43, -42, -41, -40, -39, -38, -37, -36, -35, -34, -33, -32, -31, -30, -29, -28, -20, -19, -18, -17, -16, -15, -14, -13, -12, -11, -10, -9, -8, -7, -46, -45, -44, -43, -42, -41, -40, -39, -38, -37, -36, -35, -34, -33, -32, -31, -20, -19, -18, -17, -16, -15, -14, -13, -12, -11, -10, -9, -8, -7, -19, -18, -17, -16, -15, -14, -13, -12, -11, -10, -9, -8, -7, -17, -16, -15, -14, -13, -12, -11, -10, -9, -8, -16, -15, -14, -13, -12, -11, -10, -9, -8, -14, -13, -12, -11, -10, -9, -12, -11, -63, -62, -61, -62, -61, -62, -63, -62]\n",
      "--- 6.542031526565552 seconds ---\n"
     ]
    },
    {
     "data": {
      "image/png": "[encoded data removed]",
      "text/plain": [
       "<Figure size 432x288 with 1 Axes>"
      ]
     },
     "metadata": {
      "needs_background": "light"
     },
     "output_type": "display_data"
    }
   ],
   "source": [
    "import os, sys\n",
    "import csv\n",
    "current_dir = os.getcwd()\n",
    "sys.path.append(current_dir)\n",
    "os.chdir('C:/Users/giorg/Desktop/Trento/Meccatronica/TESI/Progress/Github repositories/wt_darkvessel-motion-planning-6aed3242f2f8_originale')\n",
    "import numpy as np\n",
    "import matplotlib.tri as tri\n",
    "import mahotas\n",
    "from scipy.interpolate import griddata\n",
    "from scipy import interpolate\n",
    "import matplotlib\n",
    "import matplotlib.pyplot as plt\n",
    "import math\n",
    "import time\n",
    "from scipy.interpolate import interp1d\n",
    "from statistics import mode\n",
    "from a_star import main_Astar\n",
    "from potential_field import main_POT\n",
    "\n",
    "threshold = 6000\n",
    "ngridx = 100\n",
    "ngridy = 100\n",
    "npts = 200\n",
    "C = 6378137*(math.pi/180)\n",
    "\n",
    "def transform(x_coords, y_coords, angle, sx, sy):\n",
    "\tnew_x = []\n",
    "\tnew_y = []\n",
    "\t\n",
    "    #for i in range(1, len(x_coords)):\n",
    "\tnew_x.append(math.cos(angle)*x_coords + math.sin(angle)*y_coords+sx)\n",
    "\tnew_y.append(-math.sin(angle)*x_coords + math.cos(angle)*y_coords+sy)\n",
    "\t\t\n",
    "\treturn new_x, new_y \n",
    "\n",
    "def design_plot_sin(xi, yi, xobs, yobs):\n",
    "    \n",
    "    newxx = []\n",
    "    newyy = []\n",
    "    Fs = 8000\n",
    "    f = 5000\n",
    "    sample = 100\n",
    "    x = np.arange(0,20*np.pi,20*np.pi/100)\n",
    "    y = 3*np.sin(2 * np.pi *f * x/Fs)\n",
    "    y[-1]=0.0\n",
    "    \n",
    "    for i in range(1, len(xi)):\n",
    "        j = i-1\n",
    "        ang = -math.atan2(abs(yi[i]-yi[j]), abs(xi[i]-xi[j]))\n",
    "        tmpx, tmpy = transform(0, y[j], ang, xi[j], yi[j])\n",
    "        newxx.append(tmpx)\n",
    "        newyy.append(tmpy)\n",
    "        if i == len(xi)-1:\n",
    "            j = i\n",
    "            tmpx, tmpy = transform(0, y[j], ang, xi[j], yi[j])\n",
    "            newxx.append(tmpx)\n",
    "            newyy.append(tmpy)\n",
    "\n",
    "\n",
    "    plt.plot(newxx, newyy)\n",
    "    plt.plot(xi, yi)\n",
    "    plt.plot(xobs, yobs, 'x')\n",
    "    plt.show()\n",
    "    \n",
    "    return newxx, newyy\n",
    "\n",
    "def interp_traj(x, y, sm_par):\n",
    "    tck,u=interpolate.splprep([x,y],s=sm_par)\n",
    "    x_i,y_i= interpolate.splev(np.linspace(0,1,100),tck)\n",
    "    return x_i, y_i\n",
    "\n",
    "def plot_interp_traj(x, y, sm_par, name_plot):\n",
    "    plt.plot(x, y, 'o-')\n",
    "    xi, yi = interp_traj(x, y, sm_par)\n",
    "    plt.plot(xi, yi)\n",
    "    plt.title(name_plot)\n",
    "    plt.grid()\n",
    "    plt.show()\n",
    "    return xi, yi\n",
    "\n",
    "def dist_pts(x1, y1, x2, y2):\n",
    "    dist = math.sqrt((x1-x2)**2 + (y1-y2)**2)\n",
    "    return dist\n",
    "\n",
    "def create_obstacle(obs_x, obs_y, r):\n",
    "    circ = []\n",
    "    for an in range(0, 13):\n",
    "        circ.append(2*an*math.pi/12)\n",
    "\n",
    "    for i in range(0, len(obs_x)):\n",
    "        for j in circ:\n",
    "            obs_x.append(obs_x[i] + r*math.cos(j))\n",
    "            obs_y.append(obs_y[i] + r*math.sin(j))\n",
    "            \n",
    "    return obs_x, obs_y\n",
    "\n",
    "def calc_thresh(met, length):\n",
    "    thresh = length-int(met/2)-1\n",
    "    return thresh\n",
    "\n",
    "'''\n",
    "def new_obstacles(cs, tt):\n",
    "    p, points_polys = fill_poly(cs)\n",
    "    thr = calc_thresh(tt, len(points_polys))\n",
    "    obs_x = []\n",
    "    obs_y = []\n",
    "    for i in range(len(points_polys)):\n",
    "        if i > thr:\n",
    "            plt.scatter(points_polys[i][0], points_polys[i][1])\n",
    "            for j in range(0, len(points_polys[i][0])):\n",
    "                obs_x.append(points_polys[i][0][j])\n",
    "                obs_y.append(points_polys[i][1][j])\n",
    "\n",
    "    plt.show()\n",
    "    return obs_x, obs_y\n",
    "'''\n",
    "\n",
    "def new_obstacles(cs, tt):\n",
    "    p,points_polys = fill_poly(cs)\n",
    "    thr = calc_thresh(tt, len(points_polys))\n",
    "    obs_x = []\n",
    "    obs_y = []\n",
    "    for i in range(len(points_polys)):\n",
    "        if i > thr:\n",
    "            plt.scatter(points_polys[i][0], points_polys[i][1])\n",
    "            for j in range(0, len(points_polys[i][0])):\n",
    "                obs_x.append(points_polys[i][0][j])\n",
    "                obs_y.append(points_polys[i][1][j])\n",
    "\n",
    "    plt.show()\n",
    "    return obs_x, obs_y\n",
    "\n",
    "def plot_map(X, Y, D, i, IP_x, IP_y, c_x, c_y):\n",
    "    \n",
    "    xi = np.linspace(min(X), max(X), ngridx)\n",
    "    yi = np.linspace(min(Y), max(Y), ngridy)\n",
    "    xi_t = np.linspace(min(IP_x), max(IP_x), ngridx)\n",
    "    yi_t = np.linspace(min(IP_y), max(IP_y), ngridx)\n",
    "    zi = griddata((X, Y), D, (xi[None,:], yi[:,None]), method='linear')\n",
    "        \n",
    "    CS = plt.contour(xi,yi,zi,15,linewidths=0.5,colors='k')\n",
    "    CS = plt.contourf(xi,yi,zi,15,cmap=plt.cm.jet)\n",
    "    CS.set_clim(min(D), max(D))\n",
    "    plt.colorbar() # draw colorbar\n",
    "    #plt.scatter(X,Y,marker='o',c='white',s=5)\n",
    "    plt.scatter(c_x, c_y,marker='o',c='black',s=50)\n",
    "    plt.scatter(IP_x,IP_y,marker='x',c='black',s=30) #?\n",
    "    plt.xlim(min(X), max(X))\n",
    "    plt.ylim(min(Y), max(Y))\n",
    "    plt.title('griddata test (%d points)' % npts)\n",
    "    plt.show()\n",
    "    return CS\n",
    "\n",
    "def render(poly_old):\n",
    "    \"\"\"Return polygon as grid of points inside polygon.\n",
    "\n",
    "    Input : poly (list of lists)\n",
    "    Output : output (list of lists)\n",
    "    \"\"\"\n",
    "    poly = []\n",
    "    for i in poly_old:\n",
    "        poly.append([int(i[0]), int(i[1])])\n",
    "    \n",
    "    xs, ys = zip(*poly)\n",
    "    minx, maxx = min(xs), max(xs)\n",
    "    miny, maxy = min(ys), max(ys)\n",
    "\n",
    "    newPoly = [(int(x - minx), int(y - miny)) for (x, y) in poly]\n",
    "\n",
    "    X = maxx - minx + 1\n",
    "    Y = maxy - miny + 1\n",
    "\n",
    "    grid = np.zeros((X, Y), dtype=np.int8)\n",
    "    mahotas.polygon.fill_polygon(newPoly, grid)\n",
    "\n",
    "    return [(x + minx, y + miny) for (x, y) in zip(*np.nonzero(grid))]\n",
    "\n",
    "def fill_poly(cs):\n",
    "    points_polys = []\n",
    "    polys = []\n",
    "    xxx = []\n",
    "    yyy = []\n",
    "    for i in range(0, len(cs.allsegs)-1):\n",
    "        dat0= cs.allsegs[i][0]\n",
    "        #plt.scatter(X,Y,marker='o',c='black',s=5)\n",
    "        #plt.plot(dat0[:,0],dat0[:,1])\n",
    "        x, y = zip(*render(dat0))\n",
    "        points_polys.append([x, y])\n",
    "        plt.scatter(x, y)\n",
    "        xxx.append(x)\n",
    "        xxx.append(y)\n",
    "        x, y = zip(*dat0)\n",
    "        polys.append([x, y])\n",
    "        #plt.plot(x, y, c=\"r\")\n",
    "        plt.xlim(0, 80)\n",
    "        plt.ylim(-110, 0)\n",
    "        \n",
    "     \n",
    "    #print('111111111111111111')\n",
    "    #print(xxx)\n",
    "    #print('222222222222222222')\n",
    "    #print(yyy)\n",
    "    plt.show()\n",
    "\n",
    "    return polys, points_polys\n",
    "\n",
    "def main_CP():\n",
    "    x = []\n",
    "    y = []\n",
    "    d = []\n",
    "    \n",
    "    x_obs = []\n",
    "    y_obs = []\n",
    "    obstacles = []\n",
    "    inde = []\n",
    "    \n",
    "    \"\"\"with open('my_data-6.csv', newline = '') as file:\n",
    "        reader = csv.reader(file, delimiter = ';')\n",
    "        for row in reader:\n",
    "            if row[2] != ' undefined':\n",
    "                x.append(row[0])\n",
    "                y.append(row[1])\n",
    "                d.append(row[2]) \n",
    "    with open('my_data-9.csv', newline='') as f:\n",
    "        reader=csv.reader(f, delimiter=';')\n",
    "        for row in reader:\n",
    "            if row[2]!=' undefined' :\n",
    "                x.append(row[0])\n",
    "                y.append(row[1])\n",
    "                d.append(row[2])\"\"\"\n",
    "    with open('my_data-15.csv', newline='') as f:\n",
    "        reader=csv.reader(f, delimiter=';')\n",
    "        for row in reader:\n",
    "            if row[2]!=' undefined' :\n",
    "                x.append(row[0])\n",
    "                y.append(row[1])\n",
    "                d.append(row[2])\n",
    "                \n",
    "    x1=np.array(x)\n",
    "    y1=np.array(y)\n",
    "    d1=np.array(d)\n",
    "    \n",
    "    X = [(a-min(x1.astype(np.float)))*C for a in x1.astype(np.float)]\n",
    "    Y = [-(b-min(y1.astype(np.float)))*C for b in y1.astype(np.float)]\n",
    "    D = -d1.astype(np.float)\n",
    "    \n",
    "    # Center of the map\n",
    "    center_x = (max(X)-min(X))/2  \n",
    "    center_y = -(max(Y)-min(Y))/2\n",
    "    \n",
    "    IP_x = np.array([center_x-center_x/2, center_x-center_x/2, center_x+center_x/2])\n",
    "    IP_y = np.array([center_y+center_y/2, center_y-center_y/2, center_y-center_y/2])\n",
    "    IP_GPS = [(a-min(x1.astype(np.float)))*C for a in x1.astype(np.float)]\n",
    "    \n",
    "    # Corners of the map\n",
    "    j = 0\n",
    "    corner_x = []\n",
    "    corner_y = []\n",
    "    counter = [0,0,0,0]\n",
    "    for ind_cor in X:\n",
    "        if ind_cor == min(X) and counter[0] == 0:\n",
    "            #print('min_x' + str(j))\n",
    "            corner_x.append(ind_cor)\n",
    "            corner_y.append(Y[j])\n",
    "            counter[0] = 1\n",
    "        if Y[j] == min(Y) and counter[1] == 0:\n",
    "            #print('min_y' + str(j))\n",
    "            corner_x.append(ind_cor)\n",
    "            corner_y.append(Y[j])\n",
    "            counter[1] = 1\n",
    "        if ind_cor == max(X) and counter[2] == 0:\n",
    "            #print('max_x' + str(j))\n",
    "            corner_x.append(ind_cor)\n",
    "            corner_y.append(Y[j])\n",
    "            counter[2] = 1\n",
    "        if Y[j] == max(Y) and counter[3] == 0:\n",
    "            #print('max_y' + str(j))\n",
    "            corner_x.append(ind_cor)\n",
    "            corner_y.append(Y[j])\n",
    "            counter[3] = 1\n",
    "            \n",
    "        j = j+1\n",
    "    \n",
    "    index = []\n",
    "    for i in range(0, len(corner_x)):\n",
    "        index.append(0)\n",
    "    \n",
    "    j = 0\n",
    "    tmp_corner_x = [62.39457458950221, 76.34661743596075, 76.34661743596075, 18.479035472486686, 0.0]\n",
    "    tmp_corner_y = [-0.0, -20.594105796569192, -20.779638281349452, -104.8258538302531, -41.16965834491743]\n",
    "    sx = 20.0  # [m]\n",
    "    sy = -80.0  # [m]\n",
    "    gx = 60.0  # [m]\n",
    "    gy = -20.0  # [m]\n",
    "    s1x = gx\n",
    "    s1y = gy\n",
    "    g1x = 10\n",
    "    g1y = 45\n",
    "\t#sx = float(input(\"Give start x position: \"))\n",
    "    #sy = float(input(\"Give start y position: \"))\n",
    "    #gx = float(input(\"Give goal x position: \"))\n",
    "    #gy = float(input(\"Give goal y position: \"))\n",
    "    #x_obs_tmp, y_obs_tmp,x_HT, Hor_Traj = design_Horizontal(new_obs_x, new_obs_y,sx, sy, gx, gy)\n",
    "    \n",
    "    cs = plot_map(X, Y, D, inde, IP_x, IP_y, corner_x, corner_y)\n",
    "    \n",
    "    tOBS_X, tOBS_Y = new_obstacles(cs, 8)\n",
    "    radius = 3\n",
    "    x_obs = tOBS_X\n",
    "    y_obs = tOBS_Y\n",
    "    print(x_obs)\n",
    "    print('--------')\n",
    "    print(y_obs)\n",
    "    #x_obs, y_obs = create_obstacle(tOBS_X, tOBS_Y, radius)\n",
    "    '''\n",
    "    i = 10.0\n",
    "    tt = []\n",
    "    while i > 2.0:\n",
    "        start_time = time.time()\n",
    "        #routx_pot, routy_pot = main_POT(sx, sy, gx, gy, x_obs, y_obs, tmp_corner_x, tmp_corner_y, i)\n",
    "        tt.append((time.time() - start_time))\n",
    "        print(\"--- %s seconds ---\" % (time.time() - start_time))\n",
    "        i = i - 0.75\n",
    "\n",
    "    print(tt)\n",
    "    '''\n",
    "    start_time = time.time()\n",
    "    routx_ast, routy_ast = main_Astar(sx, sy, gx, gy, tmp_corner_x, tmp_corner_y, x_obs, y_obs)\n",
    "    print(\"--- %s seconds ---\" % (time.time() - start_time))\n",
    "    #return sx, sy, gx, gy, x_obs,y_obs, tmp_corner_x, tmp_corner_y\n",
    "    '''\n",
    "    print('-----------------')\n",
    "    print('Potential Field: ')\n",
    "    #for i in range(0, len(routx_pot)):\n",
    "    #    print(routx_pot[i], routy_pot[i])\n",
    "    \n",
    "    print('-----------------')\n",
    "    print('A star: ')\n",
    "    #for i in range(0, len(routx_ast)):\n",
    "    #    print(routx_ast[i], routy_ast[i])\n",
    "        \n",
    "    print('-----------------')\n",
    "    print(routx_pot)\n",
    "    print(routy_pot)\n",
    "    print(routx_ast)\n",
    "    print(routy_ast)\n",
    "    '''\n",
    "    #astxi, astyi = plot_interp_traj(routx_ast, routy_ast, 50.0, 'A star')\n",
    "    #potxi, potyi = plot_interp_traj(routx_pot, routy_pot, 50.0, 'Potential')\n",
    "    \n",
    "    #sin_astx, sin_asty = design_plot_sin(astxi, astyi, x_obs, y_obs)\n",
    "    #sin_potx, sin_poty = design_plot_sin(potxi, potyi, x_obs, y_obs)\n",
    "#sx, sy, gx, gy, x_obs,y_obs, tmp_corner_x, tmp_corner_y = main_CP()\n",
    "main_CP()"
   ]
  },
  {
   "cell_type": "code",
   "execution_count": null,
   "id": "39ce1012-7f1c-45fe-93d9-4977b812fe9c",
   "metadata": {},
   "outputs": [],
   "source": [
    "\"\"\"plt.figure(4, figsize=(10, 7))\n",
    "mp2 = Basemap(projection='merc',\n",
    "             llcrnrlon=10.58675,  # 4.125, 10,  # -5.42,\n",
    "             llcrnrlat=42.11383,  # 33.1875, 42\n",
    "             urcrnrlon=11.68915,  # 20.291667938, 12\n",
    "             urcrnrlat=42.78513,  # 45.97916,  42.7488\n",
    "             resolution='l')\n",
    "\n",
    "lon, lat = np.meshgrid(lons, lats)\n",
    "x, y = mp2(lon, lat)\n",
    "\n",
    "sx, sy = mp2(11.412532, 42.339683)  # starting point\n",
    "gx, gy = mp2(11.106284, 42.504714)\n",
    "plt.plot(oxland_, oyland_, \".g\")\n",
    "plt.plot(Cspacex_, Cspacey_, '.b')\n",
    "plt.plot(sx, sy, \"<k\", markersize=10)\n",
    "plt.plot(gx, gy, \"Xr\", markersize=10)\n",
    "mp2.fillcontinents()\n",
    "mp2.drawcoastlines()\n",
    "mp2.drawstates()\n",
    "mp2.drawcountries()\n",
    "\n",
    "plt.show()\"\"\""
   ]
  },
  {
   "cell_type": "code",
   "execution_count": null,
   "id": "0015ac15-7b70-4e1f-8a01-d669db2a3b36",
   "metadata": {},
   "outputs": [],
   "source": []
  }
 ],
 "metadata": {
  "kernelspec": {
   "display_name": "Python 3",
   "language": "python",
   "name": "python3"
  },
  "language_info": {
   "codemirror_mode": {
    "name": "ipython",
    "version": 3
   },
   "file_extension": ".py",
   "mimetype": "text/x-python",
   "name": "python",
   "nbconvert_exporter": "python",
   "pygments_lexer": "ipython3",
   "version": "3.8.8"
  }
 },
 "nbformat": 4,
 "nbformat_minor": 5
}
